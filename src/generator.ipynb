{
 "cells": [
  {
   "cell_type": "code",
   "execution_count": 61,
   "id": "5e938203",
   "metadata": {},
   "outputs": [],
   "source": [
    "from faker import Faker\n",
    "import mysql.connector as connector\n",
    "import random\n",
    "import datetime"
   ]
  },
  {
   "cell_type": "code",
   "execution_count": 62,
   "id": "adead855",
   "metadata": {},
   "outputs": [],
   "source": [
    "HOST = \"localhost\"\n",
    "USERNAME = \"ptit\"\n",
    "PASSWORD = \"ptit\"\n",
    "DATABASE = \"e_commerce\""
   ]
  },
  {
   "cell_type": "code",
   "execution_count": 63,
   "id": "59178603",
   "metadata": {},
   "outputs": [],
   "source": [
    "Faker.seed(1000)\n",
    "fake = Faker()\n",
    "\n",
    "conn = connector.connect(host=HOST, user=USERNAME, password=PASSWORD, database=DATABASE)\n",
    "curr = conn.cursor()"
   ]
  },
  {
   "cell_type": "code",
   "execution_count": 64,
   "id": "244133f9",
   "metadata": {},
   "outputs": [],
   "source": [
    "# Insert country\n",
    "no_countries = 50\n",
    "country_query = \"INSERT INTO countries(country_name) VALUES (%s)\"\n",
    "try:\n",
    "    for i in range(no_countries):\n",
    "        curr.execute(country_query, [fake.country()])\n",
    "        conn.commit()\n",
    "except Exception as e:\n",
    "    print(e)"
   ]
  },
  {
   "cell_type": "code",
   "execution_count": 65,
   "id": "d134552a",
   "metadata": {},
   "outputs": [],
   "source": [
    "# Insert address\n",
    "no_addresses = 1000\n",
    "address_query = \"INSERT INTO \" \\\n",
    "                \"addresses(address_line_1, address_line_2, street, city, country_id)\" \\\n",
    "                \"VALUES (%s, %s, %s, %s, %s)\"\n",
    "\n",
    "try:\n",
    "    for i in range(no_addresses):\n",
    "        curr.execute(address_query, [fake.street_address(), fake.secondary_address(), fake.street_name(), fake.city(), random.randint(1, no_countries)])\n",
    "        conn.commit()\n",
    "except Exception as e:\n",
    "    print(e)"
   ]
  },
  {
   "cell_type": "code",
   "execution_count": 66,
   "id": "a6f8693d",
   "metadata": {},
   "outputs": [],
   "source": [
    "# insert customer\n",
    "no_customers = 10000\n",
    "customer_query = \"INSERT INTO \" \\\n",
    "                 \"customers(first_name, last_name, phone_number, date_of_birth, email, gender, password)\" \\\n",
    "                 \"VALUES(%s, %s, %s, %s, %s, %s, %s)\"\n",
    "gender = [\"male\", \"female\"]\n",
    "digits = \"\".join(random.choices(\"0123456789\", k=9))\n",
    "try:\n",
    "    for i in range(no_customers):\n",
    "        val = [fake.first_name(), fake.last_name(), fake.country_calling_code() + digits, fake.date_of_birth(minimum_age=18, maximum_age=70), fake.email(), gender[random.randint(0, 1)], fake.text(max_nb_chars=12)]\n",
    "        curr.execute(customer_query, val)\n",
    "        conn.commit()\n",
    "except Exception as e:\n",
    "    print(e)"
   ]
  },
  {
   "cell_type": "code",
   "execution_count": 67,
   "id": "4a383ef0",
   "metadata": {},
   "outputs": [],
   "source": [
    "# customer_address\n",
    "customer_address_query = \"INSERT INTO \" \\\n",
    "                            \"customer_address(customer_id, address_id) \" \\\n",
    "                            \"VALUES(%s, %s)\"\n",
    "try:\n",
    "    for i in range(1, no_customers+1):\n",
    "        curr.execute(customer_address_query, [i, random.randint(1, no_addresses)])\n",
    "        conn.commit()\n",
    "except Exception as e:\n",
    "    print(e)"
   ]
  },
  {
   "cell_type": "code",
   "execution_count": 68,
   "id": "94172775",
   "metadata": {},
   "outputs": [],
   "source": [
    "# order\n",
    "no_orders = 20000\n",
    "order_query = \"INSERT INTO orders(customer_id, order_date, total_amount, status) VALUES (%s, %s, %s, %s)\"\n",
    "order_statuses = [\n",
    "    \"PENDING\",     # Chờ xử lý\n",
    "    \"CONFIRMED\",   # Đã xác nhận\n",
    "    \"PROCESSING\",  # Đang xử lý\n",
    "    \"SHIPPED\",     # Đã giao cho đơn vị vận chuyển\n",
    "    \"DELIVERED\",   # Đã giao hàng thành công\n",
    "    \"CANCELLED\",   # Đã hủy\n",
    "    \"RETURNED\",    # Khách hoàn trả hàng\n",
    "    \"REFUNDED\"     # Đã hoàn tiền\n",
    "]\n",
    "start_date = datetime.date(2015, 1, 1)\n",
    "end_date = datetime.date.today()\n",
    "for i in range(no_orders):\n",
    "    val = [random.randint(1, no_customers), fake.date_between(start_date, end_date), round(random.uniform(1,100000),2), order_statuses[random.randint(0, len(order_statuses)-1)]]\n",
    "    curr.execute(order_query, val)\n",
    "    conn.commit()"
   ]
  },
  {
   "cell_type": "code",
   "execution_count": null,
   "id": "4f146534",
   "metadata": {},
   "outputs": [],
   "source": []
  }
 ],
 "metadata": {
  "kernelspec": {
   "display_name": "venv",
   "language": "python",
   "name": "python3"
  },
  "language_info": {
   "codemirror_mode": {
    "name": "ipython",
    "version": 3
   },
   "file_extension": ".py",
   "mimetype": "text/x-python",
   "name": "python",
   "nbconvert_exporter": "python",
   "pygments_lexer": "ipython3",
   "version": "3.11.8"
  }
 },
 "nbformat": 4,
 "nbformat_minor": 5
}
