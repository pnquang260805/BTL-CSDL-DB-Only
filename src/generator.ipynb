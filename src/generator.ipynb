{
 "cells": [
  {
   "cell_type": "code",
   "execution_count": 25,
   "id": "5e938203",
   "metadata": {},
   "outputs": [],
   "source": [
    "from faker import Faker\n",
    "\n",
    "import faker_commerce\n",
    "import mysql.connector as connector\n",
    "import random\n",
    "import datetime"
   ]
  },
  {
   "cell_type": "code",
   "execution_count": 26,
   "id": "adead855",
   "metadata": {},
   "outputs": [],
   "source": [
    "HOST = \"localhost\"\n",
    "USERNAME = \"ptit\"\n",
    "PASSWORD = \"ptit\"\n",
    "DATABASE = \"e_commerce\""
   ]
  },
  {
   "cell_type": "code",
   "execution_count": 27,
   "id": "59178603",
   "metadata": {},
   "outputs": [],
   "source": [
    "random.seed(1000)\n",
    "\n",
    "Faker.seed(1000)\n",
    "fake = Faker()\n",
    "fake.add_provider(faker_commerce.Provider)\n",
    "\n",
    "conn = connector.connect(host=HOST, user=USERNAME, password=PASSWORD, database=DATABASE)\n",
    "curr = conn.cursor()"
   ]
  },
  {
   "cell_type": "code",
   "execution_count": 28,
   "id": "244133f9",
   "metadata": {},
   "outputs": [],
   "source": [
    "# Insert country\n",
    "no_countries = 50\n",
    "country_query = \"INSERT INTO countries(country_name) VALUES (%s)\"\n",
    "try:\n",
    "    for i in range(no_countries):\n",
    "        curr.execute(country_query, [fake.country()])\n",
    "        conn.commit()\n",
    "except Exception as e:\n",
    "    print(e)"
   ]
  },
  {
   "cell_type": "code",
   "execution_count": 29,
   "id": "d134552a",
   "metadata": {},
   "outputs": [],
   "source": [
    "# Insert address\n",
    "no_addresses = 1000\n",
    "address_query = \"INSERT INTO \" \\\n",
    "                \"addresses(address_line_1, address_line_2, street, city, country_id)\" \\\n",
    "                \"VALUES (%s, %s, %s, %s, %s)\"\n",
    "\n",
    "try:\n",
    "    for i in range(no_addresses):\n",
    "        curr.execute(address_query, [fake.street_address(), fake.secondary_address(), fake.street_name(), fake.city(), random.randint(1, no_countries)])\n",
    "        conn.commit()\n",
    "except Exception as e:\n",
    "    print(e)"
   ]
  },
  {
   "cell_type": "code",
   "execution_count": 30,
   "id": "a6f8693d",
   "metadata": {},
   "outputs": [],
   "source": [
    "# insert customer\n",
    "no_customers = 10000\n",
    "customer_query = \"INSERT INTO \" \\\n",
    "                 \"customers(first_name, last_name, phone_number, date_of_birth, email, gender, password)\" \\\n",
    "                 \"VALUES(%s, %s, %s, %s, %s, %s, %s)\"\n",
    "gender = [\"male\", \"female\"]\n",
    "digits = \"\".join(random.choices(\"0123456789\", k=9))\n",
    "try:\n",
    "    for i in range(no_customers):\n",
    "        val = [fake.first_name(), fake.last_name(), fake.country_calling_code() + digits, fake.date_of_birth(minimum_age=18, maximum_age=70), fake.email(), gender[random.randint(0, 1)], fake.text(max_nb_chars=12)]\n",
    "        curr.execute(customer_query, val)\n",
    "        conn.commit()\n",
    "except Exception as e:\n",
    "    print(e)"
   ]
  },
  {
   "cell_type": "code",
   "execution_count": 31,
   "id": "4a383ef0",
   "metadata": {},
   "outputs": [],
   "source": [
    "# customer_address\n",
    "customer_address_query = \"INSERT INTO \" \\\n",
    "                            \"customer_address(customer_id, address_id) \" \\\n",
    "                            \"VALUES(%s, %s)\"\n",
    "try:\n",
    "    for i in range(1, no_customers+1):\n",
    "        curr.execute(customer_address_query, [i, random.randint(1, no_addresses)])\n",
    "        conn.commit()\n",
    "except Exception as e:\n",
    "    print(e)"
   ]
  },
  {
   "cell_type": "code",
   "execution_count": 32,
   "id": "94172775",
   "metadata": {},
   "outputs": [],
   "source": [
    "# order\n",
    "no_orders = 20000\n",
    "order_query = \"INSERT INTO orders(customer_id, order_date, total_amount, status) VALUES (%s, %s, %s, %s)\"\n",
    "order_statuses = [\n",
    "    \"PENDING\",     # Chờ xử lý\n",
    "    \"CONFIRMED\",   # Đã xác nhận\n",
    "    \"PROCESSING\",  # Đang xử lý\n",
    "    \"SHIPPED\",     # Đã giao cho đơn vị vận chuyển\n",
    "    \"DELIVERED\",   # Đã giao hàng thành công\n",
    "    \"CANCELLED\",   # Đã hủy\n",
    "    \"RETURNED\",    # Khách hoàn trả hàng\n",
    "    \"REFUNDED\"     # Đã hoàn tiền\n",
    "]\n",
    "start_date = datetime.date(2015, 1, 1)\n",
    "end_date = datetime.date.today()\n",
    "for i in range(no_orders):\n",
    "    val = [random.randint(1, no_customers), fake.date_between(start_date, end_date), round(random.uniform(1,100000),2), order_statuses[random.randint(0, len(order_statuses)-1)]]\n",
    "    curr.execute(order_query, val)\n",
    "    conn.commit()"
   ]
  },
  {
   "cell_type": "code",
   "execution_count": 33,
   "id": "42eaa7bd",
   "metadata": {},
   "outputs": [],
   "source": [
    "# supplier\n",
    "no_suppliers = 1000\n",
    "supplier_query = \"INSERT INTO suppliers(supplier_name, country) VALUES (%s, %s)\"\n",
    "try:\n",
    "    for i in range(no_suppliers):\n",
    "        val = [fake.company(), fake.country()]\n",
    "        # print(val[1])\n",
    "        curr.execute(supplier_query, val)\n",
    "        conn.commit()\n",
    "except Exception as e:\n",
    "    raise(str(e))"
   ]
  },
  {
   "cell_type": "code",
   "execution_count": null,
   "id": "4f146534",
   "metadata": {},
   "outputs": [
    {
     "ename": "DataError",
     "evalue": "1264 (22003): Out of range value for column 'price' at row 1",
     "output_type": "error",
     "traceback": [
      "\u001b[31m---------------------------------------------------------------------------\u001b[39m",
      "\u001b[31mMySQLInterfaceError\u001b[39m                       Traceback (most recent call last)",
      "\u001b[36mFile \u001b[39m\u001b[32me:\\StudyAndWork\\PTIT\\Ky_4\\CSDL\\BTL\\venv\\Lib\\site-packages\\mysql\\connector\\connection_cext.py:755\u001b[39m, in \u001b[36mCMySQLConnection.cmd_query\u001b[39m\u001b[34m(self, query, raw, buffered, raw_as_string, **kwargs)\u001b[39m\n\u001b[32m    754\u001b[39m         query = query.encode(\u001b[33m\"\u001b[39m\u001b[33mutf-8\u001b[39m\u001b[33m\"\u001b[39m)\n\u001b[32m--> \u001b[39m\u001b[32m755\u001b[39m     \u001b[38;5;28;43mself\u001b[39;49m\u001b[43m.\u001b[49m\u001b[43m_cmysql\u001b[49m\u001b[43m.\u001b[49m\u001b[43mquery\u001b[49m\u001b[43m(\u001b[49m\n\u001b[32m    756\u001b[39m \u001b[43m        \u001b[49m\u001b[43mquery\u001b[49m\u001b[43m,\u001b[49m\n\u001b[32m    757\u001b[39m \u001b[43m        \u001b[49m\u001b[43mraw\u001b[49m\u001b[43m=\u001b[49m\u001b[43mraw\u001b[49m\u001b[43m,\u001b[49m\n\u001b[32m    758\u001b[39m \u001b[43m        \u001b[49m\u001b[43mbuffered\u001b[49m\u001b[43m=\u001b[49m\u001b[43mbuffered\u001b[49m\u001b[43m,\u001b[49m\n\u001b[32m    759\u001b[39m \u001b[43m        \u001b[49m\u001b[43mraw_as_string\u001b[49m\u001b[43m=\u001b[49m\u001b[43mraw_as_string\u001b[49m\u001b[43m,\u001b[49m\n\u001b[32m    760\u001b[39m \u001b[43m        \u001b[49m\u001b[43mquery_attrs\u001b[49m\u001b[43m=\u001b[49m\u001b[38;5;28;43mself\u001b[39;49m\u001b[43m.\u001b[49m\u001b[43mquery_attrs\u001b[49m\u001b[43m,\u001b[49m\n\u001b[32m    761\u001b[39m \u001b[43m    \u001b[49m\u001b[43m)\u001b[49m\n\u001b[32m    762\u001b[39m \u001b[38;5;28;01mexcept\u001b[39;00m MySQLInterfaceError \u001b[38;5;28;01mas\u001b[39;00m err:\n",
      "\u001b[31mMySQLInterfaceError\u001b[39m: Out of range value for column 'price' at row 1",
      "\nThe above exception was the direct cause of the following exception:\n",
      "\u001b[31mDataError\u001b[39m                                 Traceback (most recent call last)",
      "\u001b[36mCell\u001b[39m\u001b[36m \u001b[39m\u001b[32mIn[35]\u001b[39m\u001b[32m, line 6\u001b[39m\n\u001b[32m      4\u001b[39m \u001b[38;5;28;01mfor\u001b[39;00m i \u001b[38;5;129;01min\u001b[39;00m \u001b[38;5;28mrange\u001b[39m(no_products):\n\u001b[32m      5\u001b[39m     val = [fake.ecommerce_name(), \u001b[38;5;28mround\u001b[39m(random.uniform(\u001b[32m1\u001b[39m,\u001b[32m1000\u001b[39m), \u001b[32m2\u001b[39m), random.randint(\u001b[32m0\u001b[39m, \u001b[32m1000\u001b[39m), fake.image_url(), random.randint(\u001b[32m1\u001b[39m, no_suppliers)]\n\u001b[32m----> \u001b[39m\u001b[32m6\u001b[39m     \u001b[43mcurr\u001b[49m\u001b[43m.\u001b[49m\u001b[43mexecute\u001b[49m\u001b[43m(\u001b[49m\u001b[43mproduct_query\u001b[49m\u001b[43m,\u001b[49m\u001b[43m \u001b[49m\u001b[43mval\u001b[49m\u001b[43m)\u001b[49m\n\u001b[32m      7\u001b[39m     conn.commit()\n",
      "\u001b[36mFile \u001b[39m\u001b[32me:\\StudyAndWork\\PTIT\\Ky_4\\CSDL\\BTL\\venv\\Lib\\site-packages\\mysql\\connector\\cursor_cext.py:351\u001b[39m, in \u001b[36mCMySQLCursor.execute\u001b[39m\u001b[34m(self, operation, params, map_results)\u001b[39m\n\u001b[32m    343\u001b[39m \u001b[38;5;28mself\u001b[39m._executed = (\n\u001b[32m    344\u001b[39m     \u001b[38;5;28mself\u001b[39m._stmt_partition[\u001b[33m\"\u001b[39m\u001b[33msingle_stmts\u001b[39m\u001b[33m\"\u001b[39m].popleft()\n\u001b[32m    345\u001b[39m     \u001b[38;5;28;01mif\u001b[39;00m map_results\n\u001b[32m    346\u001b[39m     \u001b[38;5;28;01melse\u001b[39;00m \u001b[38;5;28mself\u001b[39m._stmt_partition[\u001b[33m\"\u001b[39m\u001b[33mmappable_stmt\u001b[39m\u001b[33m\"\u001b[39m]\n\u001b[32m    347\u001b[39m )\n\u001b[32m    349\u001b[39m \u001b[38;5;28;01mtry\u001b[39;00m:\n\u001b[32m    350\u001b[39m     \u001b[38;5;28mself\u001b[39m._handle_result(\n\u001b[32m--> \u001b[39m\u001b[32m351\u001b[39m         \u001b[38;5;28;43mself\u001b[39;49m\u001b[43m.\u001b[49m\u001b[43m_connection\u001b[49m\u001b[43m.\u001b[49m\u001b[43mcmd_query\u001b[49m\u001b[43m(\u001b[49m\n\u001b[32m    352\u001b[39m \u001b[43m            \u001b[49m\u001b[38;5;28;43mself\u001b[39;49m\u001b[43m.\u001b[49m\u001b[43m_stmt_partition\u001b[49m\u001b[43m[\u001b[49m\u001b[33;43m\"\u001b[39;49m\u001b[33;43mmappable_stmt\u001b[39;49m\u001b[33;43m\"\u001b[39;49m\u001b[43m]\u001b[49m\u001b[43m,\u001b[49m\n\u001b[32m    353\u001b[39m \u001b[43m            \u001b[49m\u001b[43mraw\u001b[49m\u001b[43m=\u001b[49m\u001b[38;5;28;43mself\u001b[39;49m\u001b[43m.\u001b[49m\u001b[43m_raw\u001b[49m\u001b[43m,\u001b[49m\n\u001b[32m    354\u001b[39m \u001b[43m            \u001b[49m\u001b[43mbuffered\u001b[49m\u001b[43m=\u001b[49m\u001b[38;5;28;43mself\u001b[39;49m\u001b[43m.\u001b[49m\u001b[43m_buffered\u001b[49m\u001b[43m,\u001b[49m\n\u001b[32m    355\u001b[39m \u001b[43m            \u001b[49m\u001b[43mraw_as_string\u001b[49m\u001b[43m=\u001b[49m\u001b[38;5;28;43mself\u001b[39;49m\u001b[43m.\u001b[49m\u001b[43m_raw_as_string\u001b[49m\u001b[43m,\u001b[49m\n\u001b[32m    356\u001b[39m \u001b[43m        \u001b[49m\u001b[43m)\u001b[49m\n\u001b[32m    357\u001b[39m     )\n\u001b[32m    358\u001b[39m \u001b[38;5;28;01mexcept\u001b[39;00m MySQLInterfaceError \u001b[38;5;28;01mas\u001b[39;00m err:\n\u001b[32m    359\u001b[39m     \u001b[38;5;28;01mraise\u001b[39;00m get_mysql_exception(\n\u001b[32m    360\u001b[39m         msg=err.msg, errno=err.errno, sqlstate=err.sqlstate\n\u001b[32m    361\u001b[39m     ) \u001b[38;5;28;01mfrom\u001b[39;00m\u001b[38;5;250m \u001b[39m\u001b[34;01merr\u001b[39;00m\n",
      "\u001b[36mFile \u001b[39m\u001b[32me:\\StudyAndWork\\PTIT\\Ky_4\\CSDL\\BTL\\venv\\Lib\\site-packages\\mysql\\connector\\opentelemetry\\context_propagation.py:97\u001b[39m, in \u001b[36mwith_context_propagation.<locals>.wrapper\u001b[39m\u001b[34m(cnx, *args, **kwargs)\u001b[39m\n\u001b[32m     95\u001b[39m \u001b[38;5;66;03m# pylint: disable=possibly-used-before-assignment\u001b[39;00m\n\u001b[32m     96\u001b[39m \u001b[38;5;28;01mif\u001b[39;00m \u001b[38;5;129;01mnot\u001b[39;00m OTEL_ENABLED \u001b[38;5;129;01mor\u001b[39;00m \u001b[38;5;129;01mnot\u001b[39;00m cnx.otel_context_propagation:\n\u001b[32m---> \u001b[39m\u001b[32m97\u001b[39m     \u001b[38;5;28;01mreturn\u001b[39;00m \u001b[43mmethod\u001b[49m\u001b[43m(\u001b[49m\u001b[43mcnx\u001b[49m\u001b[43m,\u001b[49m\u001b[43m \u001b[49m\u001b[43m*\u001b[49m\u001b[43margs\u001b[49m\u001b[43m,\u001b[49m\u001b[43m \u001b[49m\u001b[43m*\u001b[49m\u001b[43m*\u001b[49m\u001b[43mkwargs\u001b[49m\u001b[43m)\u001b[49m\n\u001b[32m     99\u001b[39m current_span = trace.get_current_span()\n\u001b[32m    100\u001b[39m tp_header = \u001b[38;5;28;01mNone\u001b[39;00m\n",
      "\u001b[36mFile \u001b[39m\u001b[32me:\\StudyAndWork\\PTIT\\Ky_4\\CSDL\\BTL\\venv\\Lib\\site-packages\\mysql\\connector\\connection_cext.py:763\u001b[39m, in \u001b[36mCMySQLConnection.cmd_query\u001b[39m\u001b[34m(self, query, raw, buffered, raw_as_string, **kwargs)\u001b[39m\n\u001b[32m    755\u001b[39m     \u001b[38;5;28mself\u001b[39m._cmysql.query(\n\u001b[32m    756\u001b[39m         query,\n\u001b[32m    757\u001b[39m         raw=raw,\n\u001b[32m   (...)\u001b[39m\u001b[32m    760\u001b[39m         query_attrs=\u001b[38;5;28mself\u001b[39m.query_attrs,\n\u001b[32m    761\u001b[39m     )\n\u001b[32m    762\u001b[39m \u001b[38;5;28;01mexcept\u001b[39;00m MySQLInterfaceError \u001b[38;5;28;01mas\u001b[39;00m err:\n\u001b[32m--> \u001b[39m\u001b[32m763\u001b[39m     \u001b[38;5;28;01mraise\u001b[39;00m get_mysql_exception(\n\u001b[32m    764\u001b[39m         err.errno, msg=err.msg, sqlstate=err.sqlstate\n\u001b[32m    765\u001b[39m     ) \u001b[38;5;28;01mfrom\u001b[39;00m\u001b[38;5;250m \u001b[39m\u001b[34;01merr\u001b[39;00m\n\u001b[32m    766\u001b[39m \u001b[38;5;28;01mexcept\u001b[39;00m \u001b[38;5;167;01mAttributeError\u001b[39;00m \u001b[38;5;28;01mas\u001b[39;00m err:\n\u001b[32m    767\u001b[39m     addr = (\n\u001b[32m    768\u001b[39m         \u001b[38;5;28mself\u001b[39m._unix_socket \u001b[38;5;28;01mif\u001b[39;00m \u001b[38;5;28mself\u001b[39m._unix_socket \u001b[38;5;28;01melse\u001b[39;00m \u001b[33mf\u001b[39m\u001b[33m\"\u001b[39m\u001b[38;5;132;01m{\u001b[39;00m\u001b[38;5;28mself\u001b[39m._host\u001b[38;5;132;01m}\u001b[39;00m\u001b[33m:\u001b[39m\u001b[38;5;132;01m{\u001b[39;00m\u001b[38;5;28mself\u001b[39m._port\u001b[38;5;132;01m}\u001b[39;00m\u001b[33m\"\u001b[39m\n\u001b[32m    769\u001b[39m     )\n",
      "\u001b[31mDataError\u001b[39m: 1264 (22003): Out of range value for column 'price' at row 1"
     ]
    }
   ],
   "source": [
    "# Product\n",
    "no_products = 100000\n",
    "product_query = \"INSERT INTO products(product_name, price, quantity_in_stock, image_url, supplier_id) VALUES (%s, %s, %s, %s, %s)\"\n",
    "for i in range(no_products):\n",
    "    val = [fake.ecommerce_name(), round(random.uniform(1,10000), 2), random.randint(0, 1000), fake.image_url(), random.randint(1, no_suppliers)]\n",
    "    curr.execute(product_query, val)\n",
    "    conn.commit()"
   ]
  },
  {
   "cell_type": "code",
   "execution_count": null,
   "id": "ca3166aa",
   "metadata": {},
   "outputs": [],
   "source": [
    "# order_product\n",
    "order_product_query = \"INSERT INTO order_product(product_id, order_id, number_of_product) VALUES(%s, %s, %s)\"\n",
    "for _ in range(no_orders):\n",
    "    val = [random.randint(1, no_products), random.randint(1, no_orders), random.randint(1,5)]\n",
    "    curr.execute(order_product_query, val)\n",
    "    conn.commit()"
   ]
  },
  {
   "cell_type": "code",
   "execution_count": null,
   "id": "e6e10a44",
   "metadata": {},
   "outputs": [],
   "source": [
    "# Reviews\n",
    "no_reviews = 10000\n",
    "review_query = \"INSERT INTO reviews(product_id, star, review) VALUES (%s, %s, %s)\"\n",
    "for _ in range(no_reviews):\n",
    "    val = [random.randint(1, no_products), random.randint(1,5), fake.text(max_nb_chars=255)]\n",
    "    curr.execute(review_query, val)\n",
    "    conn.commit()"
   ]
  },
  {
   "cell_type": "code",
   "execution_count": null,
   "id": "5f4ae931",
   "metadata": {},
   "outputs": [],
   "source": [
    "# Category\n",
    "no_categories = 5000\n",
    "category_tags = [\n",
    "    \"Electronics\",\n",
    "    \"Fashion\",\n",
    "    \"Home & Garden\",\n",
    "    \"Beauty\",\n",
    "    \"Sports\",\n",
    "    \"Automotive\",\n",
    "    \"Toys\",\n",
    "    \"Books\",\n",
    "    \"Health\",\n",
    "    \"Office Supplies\"\n",
    "]\n",
    "\n",
    "\n",
    "category_query = \"INSERT INTO categories(category_name, description, tag) VALUES(%s, %s, %s)\"\n",
    "for _ in range(no_categories):\n",
    "    val = [fake.ecommerce_category(), fake.text(max_nb_chars=255), random.choice(category_tags)]\n",
    "    curr.execute(category_query, val)\n",
    "    conn.commit()"
   ]
  },
  {
   "cell_type": "code",
   "execution_count": null,
   "id": "c05de487",
   "metadata": {},
   "outputs": [],
   "source": [
    "# product_category\n",
    "product_category_query = \"INSERT INTO product_category(product_id, category_id) VALUES (%s, %s)\"\n",
    "for _ in range(no_products):\n",
    "    val = [random.randint(1, no_products), random.randint(1, no_categories)]\n",
    "    curr.execute(product_category_query, val)\n",
    "    conn.commit()"
   ]
  }
 ],
 "metadata": {
  "kernelspec": {
   "display_name": "venv",
   "language": "python",
   "name": "python3"
  },
  "language_info": {
   "codemirror_mode": {
    "name": "ipython",
    "version": 3
   },
   "file_extension": ".py",
   "mimetype": "text/x-python",
   "name": "python",
   "nbconvert_exporter": "python",
   "pygments_lexer": "ipython3",
   "version": "3.11.8"
  }
 },
 "nbformat": 4,
 "nbformat_minor": 5
}
